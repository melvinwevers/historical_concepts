{
 "cells": [
  {
   "cell_type": "markdown",
   "metadata": {},
   "source": [
    "# Cleaning TVG\n",
    "\n",
    "In this notebook, I clean the TVG data and put it in a dataframe"
   ]
  },
  {
   "cell_type": "code",
   "execution_count": 2,
   "metadata": {},
   "outputs": [],
   "source": [
    "import pandas as pd\n",
    "import glob\n",
    "import os"
   ]
  },
  {
   "cell_type": "code",
   "execution_count": 160,
   "metadata": {},
   "outputs": [],
   "source": [
    "data = '../../../datasets/tvg_data/'\n",
    "allFiles = glob.glob(data + \"/**/*.txt\", recursive=True)"
   ]
  },
  {
   "cell_type": "code",
   "execution_count": 165,
   "metadata": {},
   "outputs": [],
   "source": [
    "corpus = []\n",
    "volume = []\n",
    "name = []\n",
    "documents = []\n",
    "author_ = []\n",
    "title_ = []\n",
    "for fname in os.listdir(data):\n",
    "    volume = fname.split()\n",
    "    path = os.path.join(data, fname)\n",
    "    if os.path.isdir(path):\n",
    "        allFiles = sorted(glob.glob(path + \"/*.txt\", recursive=True))\n",
    "        content = glob.glob(path + \"/*.csv\")\n",
    "        content_df = pd.read_csv(content[0], delimiter='\\t')\n",
    "        for file_ in allFiles:\n",
    "            author = []\n",
    "            page = os.path.basename(file_)\n",
    "            page = page.split(\"page_\")[1][:-4]\n",
    "            try:\n",
    "                author = content_df['author'][(content_df['page_first'] <= int(page)) & (content_df['page_last'] > int(page))].max()\n",
    "                title = content_df['title'][(content_df['page_first'] <= int(page)) & (content_df['page_last'] > int(page))].max()\n",
    "            except:\n",
    "                pass\n",
    "            with open(file_, 'r') as f:\n",
    "                author_.append(author)\n",
    "                title_.append(title)\n",
    "                volume.append(fname)\n",
    "                name.append(page)\n",
    "                documents.append(f.read().replace('\\n', ' '))"
   ]
  },
  {
   "cell_type": "code",
   "execution_count": 166,
   "metadata": {},
   "outputs": [],
   "source": [
    "df = pd.DataFrame(list(zip(volume, name, author_, title_, documents)),\n",
    "              columns=['volume','page', 'author', 'title', 'documents'])"
   ]
  },
  {
   "cell_type": "code",
   "execution_count": 184,
   "metadata": {},
   "outputs": [],
   "source": [
    "def get_edition_by_year(year: int):\n",
    "    missing_editions = [1888, 1944, 1945]\n",
    "   # 1888 exists but is not retro-digitized\n",
    "   # 1944 and 1945 were skipped\n",
    "    if year < 1886 or year > 2008:\n",
    "        return None\n",
    "    if year in missing_editions: # no editions\n",
    "        return None\n",
    "    if year < 1944:\n",
    "        edition = str(year - 1885)\n",
    "    elif year > 1945:\n",
    "        edition = str(year - 1887)\n",
    "    if year == 2008:\n",
    "        # edition 121 and 122 are both 2008, 122 is copy of 121 but better digitization\n",
    "        edition = \"122\"\n",
    "    if len(edition) == 1:\n",
    "        edition = \"0\" + edition\n",
    "    return \"tvg_\" + edition\n",
    "\n",
    "    edition_of_year = {}\n",
    "    year_of_edition = {}\n"
   ]
  },
  {
   "cell_type": "code",
   "execution_count": 192,
   "metadata": {},
   "outputs": [],
   "source": [
    "for year in range(1885, 2010):\n",
    "    edition = get_edition_by_year(year)\n",
    "    if edition:\n",
    "        edition_of_year[year] = edition\n",
    "        year_of_edition[edition] = str(year)"
   ]
  },
  {
   "cell_type": "code",
   "execution_count": 193,
   "metadata": {},
   "outputs": [],
   "source": [
    "df[\"year\"] = df['volume'].map(year_of_edition)"
   ]
  },
  {
   "cell_type": "code",
   "execution_count": 195,
   "metadata": {},
   "outputs": [],
   "source": [
    "df.to_csv('tvg.csv')"
   ]
  },
  {
   "cell_type": "code",
   "execution_count": 4,
   "metadata": {},
   "outputs": [],
   "source": [
    "df = pd.read_csv('../data/TVG/tvg.csv')"
   ]
  },
  {
   "cell_type": "code",
   "execution_count": null,
   "metadata": {},
   "outputs": [],
   "source": []
  }
 ],
 "metadata": {
  "kernelspec": {
   "display_name": "Python 3",
   "language": "python",
   "name": "python3"
  },
  "language_info": {
   "codemirror_mode": {
    "name": "ipython",
    "version": 3
   },
   "file_extension": ".py",
   "mimetype": "text/x-python",
   "name": "python",
   "nbconvert_exporter": "python",
   "pygments_lexer": "ipython3",
   "version": "3.7.2"
  }
 },
 "nbformat": 4,
 "nbformat_minor": 2
}
