{
 "cells": [
  {
   "cell_type": "code",
   "execution_count": 56,
   "metadata": {},
   "outputs": [],
   "source": [
    "import xml.etree.ElementTree as ET"
   ]
  },
  {
   "cell_type": "code",
   "execution_count": 61,
   "metadata": {},
   "outputs": [],
   "source": [
    "tree = ET.parse('../../../datasets/sentiment_cornetto.xml')"
   ]
  },
  {
   "cell_type": "code",
   "execution_count": 64,
   "metadata": {},
   "outputs": [],
   "source": [
    "objects = tree.findall('.//word')"
   ]
  },
  {
   "cell_type": "code",
   "execution_count": 78,
   "metadata": {},
   "outputs": [],
   "source": [
    "word = []\n",
    "id_ = []\n",
    "sense = []\n",
    "polarity = []\n",
    "subjectivity = []\n",
    "confidence = []\n",
    "for object in objects:\n",
    "    word.append(object.attrib[\"form\"])\n",
    "    id_.append(object.attrib[\"cornetto_id\"])\n",
    "    sense.append(object.attrib[\"sense\"])\n",
    "    polarity.append(object.attrib[\"polarity\"])\n",
    "    subjectivity.append(object.attrib[\"subjectivity\"])\n",
    "    confidence.append(object.attrib[\"confidence\"])"
   ]
  },
  {
   "cell_type": "code",
   "execution_count": 81,
   "metadata": {},
   "outputs": [],
   "source": [
    "emotion = pd.DataFrame(list(zip(word, id_, sense, polarity, subjectivity, confidence)), \n",
    "             columns=['word', 'id', 'sense', 'polarity','subjectivity','confidence'])"
   ]
  },
  {
   "cell_type": "code",
   "execution_count": 83,
   "metadata": {},
   "outputs": [],
   "source": [
    "emotion.to_csv('emotion_cornetto.csv', index=False)"
   ]
  },
  {
   "cell_type": "code",
   "execution_count": null,
   "metadata": {},
   "outputs": [],
   "source": []
  }
 ],
 "metadata": {
  "kernelspec": {
   "display_name": "Python 3",
   "language": "python",
   "name": "python3"
  },
  "language_info": {
   "codemirror_mode": {
    "name": "ipython",
    "version": 3
   },
   "file_extension": ".py",
   "mimetype": "text/x-python",
   "name": "python",
   "nbconvert_exporter": "python",
   "pygments_lexer": "ipython3",
   "version": "3.7.2"
  }
 },
 "nbformat": 4,
 "nbformat_minor": 2
}
