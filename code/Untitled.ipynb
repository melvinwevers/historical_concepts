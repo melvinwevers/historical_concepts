{
 "cells": [
  {
   "cell_type": "code",
   "execution_count": 80,
   "metadata": {},
   "outputs": [],
   "source": [
    "import glob\n",
    "import pandas as pd\n",
    "from docopt import docopt\n",
    "import re\n",
    "import unidecode\n",
    "import nltk\n",
    "from random import shuffle\n",
    "from nltk.corpus import stopwords\n",
    "from collections import Counter"
   ]
  },
  {
   "cell_type": "code",
   "execution_count": 15,
   "metadata": {},
   "outputs": [],
   "source": [
    "StopWords = set(stopwords.words('dutch'))\n",
    "c = Counter()"
   ]
  },
  {
   "cell_type": "code",
   "execution_count": 95,
   "metadata": {},
   "outputs": [],
   "source": [
    "def article_to_sentences(text):\n",
    "    '''\n",
    "    split article into sentences\n",
    "    '''\n",
    "    sent_tokenizer = nltk.punkt.PunktSentenceTokenizer()\n",
    "    sentences = sent_tokenizer.tokenize(text)\n",
    "    return sentences\n",
    "\n",
    "\n",
    "def clean_sentences(sentences):\n",
    "    '''\n",
    "    clean sentences by removing punctuation, accents,\n",
    "    removing words shorter than 3 characters and stopwords\n",
    "    '''\n",
    "    cleanSentences = []\n",
    "    for sentence in sentences:\n",
    "        #sentence = re.sub(\"[^a-zA-Z]\", \" \", sentence)\n",
    "        #sentence = ' '.join(word.lower() for word in sentence.split() if len(word) >= 3 and word not in StopWords)\n",
    "        sentence = [w for w in sentence.split()]\n",
    "        if len(sentence) > 0:\n",
    "            cleanSentences.append(sentence)\n",
    "    return cleanSentences\n",
    "\n",
    "def pre_process(title):\n",
    "    path = '../newspapers/{}'.format(title)\n",
    "    allFiles = glob.glob(path + \"/articles/*.tsv\")\n",
    "\n",
    "    for f in allFiles:\n",
    "        df = pd.read_csv(f, delimiter='\\t', header=None)\n",
    "        df.columns = ['date', 'page', 'size', 'min_x', 'min_y',\n",
    "                  'max_x', 'max_y', 'w', 'h', 'image_url', 'ocr_url', 'ocr']\n",
    "        df = df.dropna(subset=['ocr'])  # remove lines with empty ocr field\n",
    "\n",
    "        df = df[~df['date'].str.contains('date')]  # remove duplicate header rows\n",
    "        # remove files that contain error msg\n",
    "        excludes = ['objecttype', 'file directory not found']\n",
    "        df = df[~df['ocr'].astype(str).str.contains('|'.join(excludes))]\n",
    "        df['date'] = pd.to_datetime(df['date'])\n",
    "        \n",
    "        year = df['date'].dt.year[1]\n",
    "        print('making sentences: {}'.format(year))\n",
    "\n",
    "        df['ocr'] = df['ocr'].apply(lambda x: unidecode.unidecode(x))\n",
    "        docs = df['ocr'].apply(article_to_sentences)\n",
    "        \n",
    "        with open('{}.txt'.format(year), 'w') as output:\n",
    "            for doc in docs:\n",
    "                for sentence in doc:\n",
    "                    c.update(sentences.split())\n",
    "                    output.write(\"\\n%s\" % sentence)\n",
    "    with open(\"vocabulary.txt\", 'w') as f:\n",
    "        f.write('<S>\\n</S>\\n<UNK>\\n')\n",
    "        for k,v in c.most_common():\n",
    "            f.write('{}\\n'.format(k) )"
   ]
  },
  {
   "cell_type": "code",
   "execution_count": 96,
   "metadata": {},
   "outputs": [
    {
     "name": "stdout",
     "output_type": "stream",
     "text": [
      "making sentences: 1957\n",
      "making sentences: 1969\n",
      "making sentences: 1987\n",
      "making sentences: 1977\n",
      "making sentences: 1968\n",
      "making sentences: 1990\n",
      "making sentences: 1980\n",
      "making sentences: 1953\n",
      "making sentences: 1954\n",
      "making sentences: 1940\n",
      "making sentences: 1941\n",
      "making sentences: 1961\n",
      "making sentences: 1972\n",
      "making sentences: 1959\n",
      "making sentences: 1962\n",
      "making sentences: 1964\n",
      "making sentences: 1967\n",
      "making sentences: 1947\n",
      "making sentences: 1952\n",
      "making sentences: 1982\n",
      "making sentences: 1983\n",
      "making sentences: 1994\n",
      "making sentences: 1945\n",
      "making sentences: 1966\n",
      "making sentences: 1950\n",
      "making sentences: 1973\n",
      "making sentences: 1979\n",
      "making sentences: 1946\n",
      "making sentences: 1971\n",
      "making sentences: 1985\n",
      "making sentences: 1984\n",
      "making sentences: 1978\n",
      "making sentences: 1955\n",
      "making sentences: 1956\n",
      "making sentences: 1993\n",
      "making sentences: 1974\n",
      "making sentences: 1991\n",
      "making sentences: 1976\n",
      "making sentences: 1989\n",
      "making sentences: 1963\n",
      "making sentences: 1970\n"
     ]
    },
    {
     "name": "stderr",
     "output_type": "stream",
     "text": [
      "/usr/local/lib/python3.7/site-packages/IPython/core/interactiveshell.py:3191: DtypeWarning: Columns (1,2,3,4,5,6,7,8) have mixed types. Specify dtype option on import or set low_memory=False.\n",
      "  if (yield from self.run_code(code, result)):\n"
     ]
    },
    {
     "name": "stdout",
     "output_type": "stream",
     "text": [
      "making sentences: 1986\n",
      "making sentences: 1948\n",
      "making sentences: 1951\n",
      "making sentences: 1995\n",
      "making sentences: 1975\n",
      "making sentences: 1992\n",
      "making sentences: 1988\n",
      "making sentences: 1965\n",
      "making sentences: 1960\n",
      "making sentences: 1958\n",
      "making sentences: 1981\n"
     ]
    }
   ],
   "source": [
    "pre_process('vk')"
   ]
  },
  {
   "cell_type": "code",
   "execution_count": null,
   "metadata": {},
   "outputs": [],
   "source": []
  }
 ],
 "metadata": {
  "kernelspec": {
   "display_name": "Python 3",
   "language": "python",
   "name": "python3"
  },
  "language_info": {
   "codemirror_mode": {
    "name": "ipython",
    "version": 3
   },
   "file_extension": ".py",
   "mimetype": "text/x-python",
   "name": "python",
   "nbconvert_exporter": "python",
   "pygments_lexer": "ipython3",
   "version": "3.7.2"
  }
 },
 "nbformat": 4,
 "nbformat_minor": 2
}
