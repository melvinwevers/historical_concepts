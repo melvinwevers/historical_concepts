{
 "cells": [
  {
   "cell_type": "code",
   "execution_count": 4,
   "metadata": {},
   "outputs": [],
   "source": [
    "import pandas as pd\n",
    "import glob"
   ]
  },
  {
   "cell_type": "code",
   "execution_count": 59,
   "metadata": {},
   "outputs": [],
   "source": [
    "path = '../../../datasets/newspapers/trouw/articles/trouw_articles_raw/'\n",
    "allFiles = glob.glob(path + \"*.tsv\")"
   ]
  },
  {
   "cell_type": "code",
   "execution_count": 62,
   "metadata": {},
   "outputs": [
    {
     "name": "stdout",
     "output_type": "stream",
     "text": [
      "../../../datasets/newspapers/trouw/articles/trouw_articles_raw/trouw_article_1990-1995.tsv\n",
      "1990\n",
      "1991\n",
      "1992\n",
      "1993\n",
      "1994\n",
      "1995\n",
      "../../../datasets/newspapers/trouw/articles/trouw_articles_raw/trouw_article_1970-1974.tsv\n",
      "1970\n",
      "1971\n",
      "1972\n",
      "1973\n",
      "1974\n",
      "../../../datasets/newspapers/trouw/articles/trouw_articles_raw/trouw_article_1975-1979.tsv\n",
      "1975\n",
      "1976\n",
      "1977\n",
      "1978\n",
      "1979\n",
      "../../../datasets/newspapers/trouw/articles/trouw_articles_raw/trouw_article_1965-1969.tsv\n",
      "1965\n",
      "1966\n",
      "1967\n",
      "1968\n",
      "1969\n",
      "../../../datasets/newspapers/trouw/articles/trouw_articles_raw/trouw_article_1985-1989.tsv\n",
      "1985\n",
      "1986\n",
      "1987\n",
      "1988\n",
      "1989\n",
      "../../../datasets/newspapers/trouw/articles/trouw_articles_raw/trouw_article_1950-1952.tsv\n",
      "1950\n",
      "1951\n",
      "1952\n",
      "../../../datasets/newspapers/trouw/articles/trouw_articles_raw/trouw_article_1960-1964.tsv\n",
      "1960\n",
      "1961\n",
      "1962\n",
      "1963\n",
      "1964\n",
      "../../../datasets/newspapers/trouw/articles/trouw_articles_raw/trouw_article_1980-1984.tsv\n",
      "1980\n",
      "1981\n",
      "1982\n",
      "1983\n",
      "1984\n",
      "../../../datasets/newspapers/trouw/articles/trouw_articles_raw/trouw_article_1957-1959.tsv\n",
      "1957\n",
      "1958\n",
      "1959\n",
      "../../../datasets/newspapers/trouw/articles/trouw_articles_raw/trouw_article_1953-1956.tsv\n",
      "1953\n",
      "1954\n",
      "1955\n",
      "1956\n",
      "../../../datasets/newspapers/trouw/articles/trouw_articles_raw/trouw_article_1940.tsv\n",
      "1946\n",
      "1947\n",
      "1948\n",
      "1949\n"
     ]
    }
   ],
   "source": [
    "for f in allFiles:\n",
    "    print(f)\n",
    "    df = pd.read_csv(f, sep='\\t')\n",
    "    df['date'] = pd.to_datetime(df['date'])\n",
    "    for name, group in df.set_index('date').groupby(pd.Grouper(freq ='Y')):\n",
    "        print(name.year)\n",
    "        group.to_csv(str(name.year) + '.tsv', sep='\\t')\n",
    "    "
   ]
  },
  {
   "cell_type": "code",
   "execution_count": null,
   "metadata": {},
   "outputs": [],
   "source": []
  }
 ],
 "metadata": {
  "kernelspec": {
   "display_name": "Python 3",
   "language": "python",
   "name": "python3"
  },
  "language_info": {
   "codemirror_mode": {
    "name": "ipython",
    "version": 3
   },
   "file_extension": ".py",
   "mimetype": "text/x-python",
   "name": "python",
   "nbconvert_exporter": "python",
   "pygments_lexer": "ipython3",
   "version": "3.7.2"
  }
 },
 "nbformat": 4,
 "nbformat_minor": 2
}
