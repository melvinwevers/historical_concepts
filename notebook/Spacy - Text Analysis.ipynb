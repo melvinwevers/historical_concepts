{
 "cells": [
  {
   "cell_type": "code",
   "execution_count": 1,
   "metadata": {
    "collapsed": true
   },
   "outputs": [],
   "source": [
    "import spacy\n",
    "import pandas as pd\n",
    "import numpy as np\n",
    "from collections import Counter\n",
    "from glob import glob\n",
    "import matplotlib.pyplot as plt\n",
    "from sklearn.decomposition import TruncatedSVD\n",
    "from sklearn.feature_extraction.text import TfidfVectorizer\n",
    "\n",
    "from sent2tree import sentenceTree\n",
    "import ete3 \n",
    "import seaborn\n",
    "\n",
    "# Display plots in this notebook, instead of externally. \n",
    "from pylab import rcParams\n",
    "rcParams['figure.figsize'] = 16, 8\n",
    "%matplotlib inline"
   ]
  },
  {
   "cell_type": "code",
   "execution_count": 2,
   "metadata": {},
   "outputs": [
    {
     "name": "stdout",
     "output_type": "stream",
     "text": [
      "\n",
      "    \u001b[93mInfo about spaCy\u001b[0m\n",
      "\n",
      "    spaCy version      2.0.3          \n",
      "    Location           /Users/melvinwevers/anaconda3/envs/py3/lib/python3.6/site-packages/spacy\n",
      "    Platform           Darwin-17.2.0-x86_64-i386-64bit\n",
      "    Python version     3.6.3          \n",
      "    Models             en_core_web_lg \n",
      "\n"
     ]
    }
   ],
   "source": [
    "spacy.info()"
   ]
  },
  {
   "cell_type": "code",
   "execution_count": 3,
   "metadata": {
    "collapsed": true
   },
   "outputs": [],
   "source": [
    "nlp = spacy.load('en_core_web_lg')"
   ]
  },
  {
   "cell_type": "code",
   "execution_count": 4,
   "metadata": {
    "collapsed": true
   },
   "outputs": [],
   "source": [
    "grail_raw = open('grail.txt').read()\n",
    "pride_raw = open('pride.txt').read()"
   ]
  },
  {
   "cell_type": "code",
   "execution_count": 5,
   "metadata": {
    "collapsed": true
   },
   "outputs": [],
   "source": [
    "# Parse the texts. These commands might take a little while. \n",
    "grail = nlp(grail_raw)\n",
    "pride = nlp(pride_raw)"
   ]
  },
  {
   "cell_type": "code",
   "execution_count": 6,
   "metadata": {},
   "outputs": [
    {
     "data": {
      "text/plain": [
       "﻿It is a truth universally acknowledged, that a single"
      ]
     },
     "execution_count": 6,
     "metadata": {},
     "output_type": "execute_result"
    }
   ],
   "source": [
    "pride[:10]"
   ]
  },
  {
   "cell_type": "code",
   "execution_count": 8,
   "metadata": {},
   "outputs": [
    {
     "data": {
      "text/plain": [
       "﻿It is a truth universally acknowledged, that a single man in possession\n",
       "of a good fortune, must be in want of a wife.\n"
      ]
     },
     "execution_count": 8,
     "metadata": {},
     "output_type": "execute_result"
    }
   ],
   "source": [
    "next(pride.sents)"
   ]
  },
  {
   "cell_type": "code",
   "execution_count": 10,
   "metadata": {},
   "outputs": [
    {
     "data": {
      "text/plain": [
       "Darcy, as well as Elizabeth, really loved them; and they were both ever\n",
       "sensible of the warmest gratitude towards the persons who, by bringing\n",
       "her into Derbyshire, had been the means of uniting them."
      ]
     },
     "execution_count": 10,
     "metadata": {},
     "output_type": "execute_result"
    }
   ],
   "source": [
    "prideSents = list(pride.sents)\n",
    "prideSents[-1]"
   ]
  },
  {
   "cell_type": "code",
   "execution_count": 11,
   "metadata": {},
   "outputs": [
    {
     "data": {
      "text/plain": [
       "[crash] \n",
       "CAMERAMAN: Christ!"
      ]
     },
     "execution_count": 11,
     "metadata": {},
     "output_type": "execute_result"
    }
   ],
   "source": [
    "list(grail.sents)[-1]"
   ]
  },
  {
   "cell_type": "code",
   "execution_count": 12,
   "metadata": {},
   "outputs": [
    {
     "data": {
      "text/plain": [
       "Every lingering struggle in his favour grew fainter\n",
       "and fainter; and in farther justification of Mr. Darcy, she could not\n",
       "but allow that Mr. Bingley, when questioned by Jane, had long ago\n",
       "asserted his blamelessness in the affair; that proud and repulsive as\n",
       "were his manners, she had never, in the whole course of their\n",
       "acquaintance--an acquaintance which had latterly brought them much\n",
       "together, and given her a sort of intimacy with his ways--seen anything\n",
       "that betrayed him to be unprincipled or unjust--anything that spoke him\n",
       "of irreligious or immoral habits; that among his own connections he was\n",
       "esteemed and valued--that even Wickham had allowed him merit as a\n",
       "brother, and that she had often heard him speak so affectionately of his\n",
       "sister as to prove him capable of _some_ amiable feeling; that had his\n",
       "actions been what Mr. Wickham represented them, so gross a violation of\n",
       "everything right could hardly have been concealed from the world; and\n",
       "that friendship between a person capable of it, and such an amiable man\n",
       "as Mr. Bingley, was incomprehensible.\n"
      ]
     },
     "execution_count": 12,
     "metadata": {},
     "output_type": "execute_result"
    }
   ],
   "source": [
    "prideSentenceLengths = [len(sent) for sent in prideSents]\n",
    "sent = [sent for sent in prideSents if len(sent) == max(prideSentenceLengths)]\n",
    "sent[0]"
   ]
  },
  {
   "cell_type": "code",
   "execution_count": 16,
   "metadata": {},
   "outputs": [
    {
     "data": {
      "text/plain": [
       "'universally'"
      ]
     },
     "execution_count": 16,
     "metadata": {},
     "output_type": "execute_result"
    }
   ],
   "source": [
    "##exploring words\n",
    "\n",
    "pride[4].text\n"
   ]
  },
  {
   "cell_type": "code",
   "execution_count": 15,
   "metadata": {},
   "outputs": [
    {
     "data": {
      "text/plain": [
       "universally"
      ]
     },
     "execution_count": 15,
     "metadata": {},
     "output_type": "execute_result"
    }
   ],
   "source": [
    "pride[4]"
   ]
  },
  {
   "cell_type": "code",
   "execution_count": 17,
   "metadata": {},
   "outputs": [
    {
     "data": {
      "text/plain": [
       "['ancestors',\n",
       " 'check_flag',\n",
       " 'children',\n",
       " 'cluster',\n",
       " 'conjuncts',\n",
       " 'dep',\n",
       " 'dep_',\n",
       " 'doc',\n",
       " 'ent_id',\n",
       " 'ent_id_',\n",
       " 'ent_iob',\n",
       " 'ent_iob_',\n",
       " 'ent_type',\n",
       " 'ent_type_',\n",
       " 'get_extension',\n",
       " 'has_extension',\n",
       " 'has_vector',\n",
       " 'head',\n",
       " 'i',\n",
       " 'idx',\n",
       " 'is_alpha',\n",
       " 'is_ancestor',\n",
       " 'is_ascii',\n",
       " 'is_bracket',\n",
       " 'is_digit',\n",
       " 'is_left_punct',\n",
       " 'is_lower',\n",
       " 'is_oov',\n",
       " 'is_punct',\n",
       " 'is_quote',\n",
       " 'is_right_punct',\n",
       " 'is_sent_start',\n",
       " 'is_space',\n",
       " 'is_stop',\n",
       " 'is_title',\n",
       " 'is_upper',\n",
       " 'lang',\n",
       " 'lang_',\n",
       " 'left_edge',\n",
       " 'lefts',\n",
       " 'lemma',\n",
       " 'lemma_',\n",
       " 'lex_id',\n",
       " 'like_email',\n",
       " 'like_num',\n",
       " 'like_url',\n",
       " 'lower',\n",
       " 'lower_',\n",
       " 'n_lefts',\n",
       " 'n_rights',\n",
       " 'nbor',\n",
       " 'norm',\n",
       " 'norm_',\n",
       " 'orth',\n",
       " 'orth_',\n",
       " 'pos',\n",
       " 'pos_',\n",
       " 'prefix',\n",
       " 'prefix_',\n",
       " 'prob',\n",
       " 'rank',\n",
       " 'right_edge',\n",
       " 'rights',\n",
       " 'sent_start',\n",
       " 'sentiment',\n",
       " 'set_extension',\n",
       " 'shape',\n",
       " 'shape_',\n",
       " 'similarity',\n",
       " 'string',\n",
       " 'subtree',\n",
       " 'suffix',\n",
       " 'suffix_',\n",
       " 'tag',\n",
       " 'tag_',\n",
       " 'text',\n",
       " 'text_with_ws',\n",
       " 'vector',\n",
       " 'vector_norm',\n",
       " 'vocab',\n",
       " 'whitespace_']"
      ]
     },
     "execution_count": 17,
     "metadata": {},
     "output_type": "execute_result"
    }
   ],
   "source": [
    "[prop for prop in dir(pride[4]) if not prop.startswith('_')]"
   ]
  },
  {
   "cell_type": "code",
   "execution_count": 18,
   "metadata": {},
   "outputs": [
    {
     "data": {
      "text/plain": [
       "4"
      ]
     },
     "execution_count": 18,
     "metadata": {},
     "output_type": "execute_result"
    }
   ],
   "source": [
    "pride[4].i"
   ]
  },
  {
   "cell_type": "code",
   "execution_count": 19,
   "metadata": {
    "collapsed": true
   },
   "outputs": [],
   "source": [
    "def locations(needle, haystack): \n",
    "    \"\"\" \n",
    "    Make a list of locations, bin those into a histogram, \n",
    "    and finally put it into a Pandas Series object so that we\n",
    "    can later make it into a DataFrame. \n",
    "    \"\"\"\n",
    "    return pd.Series(np.histogram(\n",
    "        [word.i for word in haystack \n",
    "         if word.text.lower() == needle], bins=50)[0])"
   ]
  },
  {
   "cell_type": "code",
   "execution_count": 20,
   "metadata": {},
   "outputs": [
    {
     "data": {
      "text/plain": [
       "array([<matplotlib.axes._subplots.AxesSubplot object at 0x11c7792e8>,\n",
       "       <matplotlib.axes._subplots.AxesSubplot object at 0x11c564588>,\n",
       "       <matplotlib.axes._subplots.AxesSubplot object at 0x11c592f98>,\n",
       "       <matplotlib.axes._subplots.AxesSubplot object at 0x11c650b70>,\n",
       "       <matplotlib.axes._subplots.AxesSubplot object at 0x11c7a8438>], dtype=object)"
      ]
     },
     "execution_count": 20,
     "metadata": {},
     "output_type": "execute_result"
    },
    {
     "data": {
      "image/png": "[encoded data removed]",
      "text/plain": [
       "<matplotlib.figure.Figure at 0x11c64aba8>"
      ]
     },
     "metadata": {},
     "output_type": "display_data"
    }
   ],
   "source": [
    "# I have no idea why I have to keep running this. \n",
    "rcParams['figure.figsize'] = 16, 8\n",
    "\n",
    "pd.DataFrame(\n",
    "    {name: locations(name.lower(), pride) \n",
    "     for name in ['pride', 'prejudice', 'love', 'hate', 'money']}\n",
    ").plot(subplots=True)"
   ]
  },
  {
   "cell_type": "code",
   "execution_count": 21,
   "metadata": {},
   "outputs": [
    {
     "data": {
      "text/plain": [
       "{'CARDINAL',\n",
       " 'DATE',\n",
       " 'EVENT',\n",
       " 'FAC',\n",
       " 'GPE',\n",
       " 'LANGUAGE',\n",
       " 'LAW',\n",
       " 'LOC',\n",
       " 'MONEY',\n",
       " 'NORP',\n",
       " 'ORDINAL',\n",
       " 'ORG',\n",
       " 'PERSON',\n",
       " 'PRODUCT',\n",
       " 'QUANTITY',\n",
       " 'TIME',\n",
       " 'WORK_OF_ART'}"
      ]
     },
     "execution_count": 21,
     "metadata": {},
     "output_type": "execute_result"
    }
   ],
   "source": [
    "## NER\n",
    "\n",
    "set([w.label_ for w in grail.ents])"
   ]
  },
  {
   "cell_type": "code",
   "execution_count": 22,
   "metadata": {},
   "outputs": [
    {
     "data": {
      "text/plain": [
       "[Man', Thy mer--\n",
       " BLACK KNIGHT, The Tale of Sir, Farewell, SHRUBBER, Til, The Holy Hand Grenade, the Book of Armaments, Camaaaaaargue, Black Beast, Black Beast, Black Beast, the Gorge of Eternal Peril]"
      ]
     },
     "execution_count": 22,
     "metadata": {},
     "output_type": "execute_result"
    }
   ],
   "source": [
    "[ent for ent in grail.ents if ent.label_ == 'WORK_OF_ART']"
   ]
  },
  {
   "cell_type": "code",
   "execution_count": 29,
   "metadata": {},
   "outputs": [
    {
     "data": {
      "text/plain": [
       "[England,\n",
       " Mercea,\n",
       " Mercea,\n",
       " Providence,\n",
       " Hiyaah,\n",
       " Yeaaah,\n",
       " Yeaah,\n",
       " Bristol,\n",
       " England,\n",
       " I.  ,\n",
       " Zoot,\n",
       " Dingo,\n",
       " Zoot,\n",
       " Castle Anthrax,\n",
       " Neee,\n",
       " Thsss,\n",
       " Britain,\n",
       " Hiyya,\n",
       " Hiyya,\n",
       " Hiyah,\n",
       " Hiyya,\n",
       " Hoa,\n",
       " Antioch,\n",
       " Antioch,\n",
       " France,\n",
       " Saint Aauuuves,\n",
       " Cornwall,\n",
       " Assyria]"
      ]
     },
     "execution_count": 29,
     "metadata": {},
     "output_type": "execute_result"
    }
   ],
   "source": [
    "[ent for ent in grail.ents if ent.label_ == 'GPE']"
   ]
  },
  {
   "cell_type": "code",
   "execution_count": 24,
   "metadata": {},
   "outputs": [
    {
     "data": {
      "text/plain": [
       "{'',\n",
       " 'ARTHUR',\n",
       " 'ARTHUR:',\n",
       " \"Aauuuuugh'\",\n",
       " 'Arimathea',\n",
       " 'Ayy',\n",
       " 'BEDEVERE',\n",
       " 'BLACK KNIGHT',\n",
       " 'CART',\n",
       " 'CARTOON',\n",
       " 'CONCORDE',\n",
       " 'Camelot',\n",
       " 'Chicken',\n",
       " 'Excalibur',\n",
       " 'FRENCH',\n",
       " 'Guy de Loimbard',\n",
       " 'Holy Grail',\n",
       " 'Iiiiives',\n",
       " 'KNIGHTS',\n",
       " 'Knights',\n",
       " 'Knights of Ni',\n",
       " 'Knights of the Round Table',\n",
       " 'LAUNCELOT',\n",
       " 'N--',\n",
       " 'PATSY',\n",
       " 'Pure',\n",
       " 'Quoi',\n",
       " \"That's--\",\n",
       " 'Un',\n",
       " 'VILLAGER',\n",
       " 'WITCH',\n",
       " 'n--',\n",
       " \"the BLACK KNIGHT's\",\n",
       " 'the Court of Camelot',\n",
       " 'the Holy Grail',\n",
       " 'the Holy Hand Grenade',\n",
       " 'the Holy Pin'}"
      ]
     },
     "execution_count": 24,
     "metadata": {},
     "output_type": "execute_result"
    }
   ],
   "source": [
    "set(list([ent.string.strip() for ent in grail.ents if ent.label_ == 'ORG']))"
   ]
  },
  {
   "cell_type": "code",
   "execution_count": 30,
   "metadata": {},
   "outputs": [
    {
     "data": {
      "text/plain": [
       "{'Aaaugh',\n",
       " 'African ',\n",
       " 'Anarcho',\n",
       " 'Britons',\n",
       " 'English ',\n",
       " 'European ',\n",
       " 'FRENCH ',\n",
       " 'French',\n",
       " 'French ',\n",
       " 'Saxons'}"
      ]
     },
     "execution_count": 30,
     "metadata": {},
     "output_type": "execute_result"
    }
   ],
   "source": [
    "set([ent.string for ent in grail.ents if ent.label_ == 'NORP'])"
   ]
  },
  {
   "cell_type": "code",
   "execution_count": 31,
   "metadata": {},
   "outputs": [
    {
     "data": {
      "text/plain": [
       "[I'm French!  ,\n",
       " Well, now, uh, Launcelot, Galahad, and I, uh, wait until nightfall, and then leap out of the rabbit, taking the French, uh, by surprise.  ,\n",
       " The ferocity of the French taunting took him completely by surprise, and Arthur became convinced that a new strategy was required if the quest for the Holy Grail were to be brought to a successful conclusion.  ,\n",
       " So, we French fellows outwit you a second time!,\n",
       " So, you think you could out-clever us French folk with your silly knees-bent running about advancing behaviour?!  ,\n",
       " [exciting music] [music stops] [silence] French persons!\n",
       " FRENCH GUARDS: [taunting] ...]"
      ]
     },
     "execution_count": 31,
     "metadata": {},
     "output_type": "execute_result"
    }
   ],
   "source": [
    "frenchPeople = [ent for ent in grail.ents if ent.label_ == 'NORP' and ent.string.strip() == 'French']\n",
    "[ent.sent for ent in frenchPeople]"
   ]
  },
  {
   "cell_type": "code",
   "execution_count": 32,
   "metadata": {},
   "outputs": [
    {
     "data": {
      "text/plain": [
       "{83: 'ADJ',\n",
       " 84: 'ADP',\n",
       " 85: 'ADV',\n",
       " 88: 'CCONJ',\n",
       " 89: 'DET',\n",
       " 90: 'INTJ',\n",
       " 91: 'NOUN',\n",
       " 92: 'NUM',\n",
       " 93: 'PART',\n",
       " 94: 'PRON',\n",
       " 95: 'PROPN',\n",
       " 96: 'PUNCT',\n",
       " 98: 'SYM',\n",
       " 99: 'VERB',\n",
       " 100: 'X',\n",
       " 102: 'SPACE'}"
      ]
     },
     "execution_count": 32,
     "metadata": {},
     "output_type": "execute_result"
    }
   ],
   "source": [
    "#POS\n",
    "# Make a quick-and-dirty lookup table of POS IDs, \n",
    "# since the default representation of a POS is numeric. \n",
    "tagDict = {w.pos: w.pos_ for w in pride} \n",
    "tagDict"
   ]
  },
  {
   "cell_type": "code",
   "execution_count": 33,
   "metadata": {},
   "outputs": [
    {
     "data": {
      "text/plain": [
       "<matplotlib.axes._subplots.AxesSubplot at 0x128a502e8>"
      ]
     },
     "execution_count": 33,
     "metadata": {},
     "output_type": "execute_result"
    },
    {
     "data": {
      "image/png": "[encoded data removed]",
      "text/plain": [
       "<matplotlib.figure.Figure at 0x128a42400>"
      ]
     },
     "metadata": {},
     "output_type": "display_data"
    }
   ],
   "source": [
    "grailPOS = pd.Series(grail.count_by(spacy.attrs.POS))/len(grail)\n",
    "pridePOS = pd.Series(pride.count_by(spacy.attrs.POS))/len(pride)\n",
    "\n",
    "rcParams['figure.figsize'] = 16, 8\n",
    "df = pd.DataFrame([grailPOS, pridePOS], index=['Grail', 'Pride'])\n",
    "df.columns = [tagDict[column] for column in df.columns]\n",
    "df.T.plot(kind='bar')"
   ]
  },
  {
   "cell_type": "code",
   "execution_count": 35,
   "metadata": {},
   "outputs": [
    {
     "data": {
      "text/plain": [
       "[('I', 2066),\n",
       " ('she', 1384),\n",
       " ('it', 1287),\n",
       " ('you', 1145),\n",
       " ('he', 1100),\n",
       " ('him', 762),\n",
       " ('her', 725),\n",
       " ('they', 477),\n",
       " ('me', 444),\n",
       " ('them', 433)]"
      ]
     },
     "execution_count": 35,
     "metadata": {},
     "output_type": "execute_result"
    }
   ],
   "source": [
    "prideAdjs = [w for w in pride if w.pos_ == 'PRON']\n",
    "Counter([w.string.strip() for w in prideAdjs]).most_common(10)"
   ]
  },
  {
   "cell_type": "code",
   "execution_count": 36,
   "metadata": {},
   "outputs": [
    {
     "data": {
      "text/plain": [
       "[('I', 240),\n",
       " ('you', 202),\n",
       " ('it', 106),\n",
       " ('You', 61),\n",
       " ('We', 60),\n",
       " ('we', 57),\n",
       " ('me', 46),\n",
       " ('He', 46),\n",
       " ('he', 42),\n",
       " ('It', 35)]"
      ]
     },
     "execution_count": 36,
     "metadata": {},
     "output_type": "execute_result"
    }
   ],
   "source": [
    "grailAdjs = [w for w in grail if w.pos_ == 'PRON']\n",
    "Counter([w.string.strip() for w in grailAdjs]).most_common(10)"
   ]
  },
  {
   "cell_type": "code",
   "execution_count": 37,
   "metadata": {},
   "outputs": [
    {
     "data": {
      "text/plain": [
       "[The wise Sir Bedevere was the first to join King Arthur's knights, but other illustrious names were soon to follow: Sir Lancelot the Brave; Sir Gallahad the Pure; and Sir Robin the-not-quite-so-brave-as-Sir-Lancelot, who had nearly fought the Dragon of Angnor, who had nearly stood up to the vicious Chicken of Bristol, and who had personally wet himself at the Battle of Badon Hill; and the aptly named Sir Not-appearing-in-this-film.  ,\n",
       " The Tale of Sir Robin.  ,\n",
       " Sir Robin rode north, through the dark forest of Ewing, accompanied by his favorite minstrels.,\n",
       " Bravely bold Sir Robin, rode forth from Camelot.  ,\n",
       " He was not afraid to die, O brave Sir Robin.  ,\n",
       " Brave, brave, brave, brave Sir Robin!  ,\n",
       " To have his kneecaps split, and his body burned away, And his limbs all hacked and mangled, brave Sir Robin!,\n",
       " He is brave Sir Robin, brave Sir Robin, who--\n",
       " ROBIN:,\n",
       " Brave Sir Robin ran away.,\n",
       " Yes, brave Sir Robin turned about\n",
       " ROBIN: I didn't!,\n",
       " Bravest of the brave, Sir Robin.,\n",
       " My liege, it's Sir Robin!,\n",
       " ARTHUR: Sir Robin!\n",
       " ROBIN:,\n",
       " And so, Arthur and Bedevere and Sir Robin set out on their search to find the enchanter of whom the old man had spoken in scene twenty-four.  ,\n",
       " ARTHUR: Sir Robin!,\n",
       " ARTHUR: Brave Sir Robin, you go.,\n",
       " Sir Robin of Camelot.]"
      ]
     },
     "execution_count": 37,
     "metadata": {},
     "output_type": "execute_result"
    }
   ],
   "source": [
    "robinSents = [sent for sent in grail.sents if 'Sir Robin' in sent.string]\n",
    "robinSents"
   ]
  },
  {
   "cell_type": "code",
   "execution_count": 38,
   "metadata": {},
   "outputs": [
    {
     "data": {
      "text/plain": [
       "Sir Robin rode north, through the dark forest of Ewing, accompanied by his favorite minstrels."
      ]
     },
     "execution_count": 38,
     "metadata": {},
     "output_type": "execute_result"
    }
   ],
   "source": [
    "r2 = robinSents[2]\n",
    "r2"
   ]
  },
  {
   "cell_type": "code",
   "execution_count": 39,
   "metadata": {},
   "outputs": [
    {
     "name": "stdout",
     "output_type": "stream",
     "text": [
      "Sir NNP PROPN\n",
      "Robin NNP PROPN\n",
      "rode VBD VERB\n",
      "north RB ADV\n",
      ", , PUNCT\n",
      "through IN ADP\n",
      "the DT DET\n",
      "dark JJ ADJ\n",
      "forest NN NOUN\n",
      "of IN ADP\n",
      "Ewing NNP PROPN\n",
      ", , PUNCT\n",
      "accompanied VBN VERB\n",
      "by IN ADP\n",
      "his PRP$ ADJ\n",
      "favorite JJ ADJ\n",
      "minstrels NNS NOUN\n",
      ". . PUNCT\n",
      "\n",
      "  SPACE\n"
     ]
    }
   ],
   "source": [
    "for word in r2: \n",
    "    print(word, word.tag_, word.pos_)"
   ]
  },
  {
   "cell_type": "code",
   "execution_count": 40,
   "metadata": {},
   "outputs": [
    {
     "data": {
      "text/plain": [
       "['as_doc',\n",
       " 'doc',\n",
       " 'end',\n",
       " 'end_char',\n",
       " 'ent_id',\n",
       " 'ent_id_',\n",
       " 'get_extension',\n",
       " 'get_lca_matrix',\n",
       " 'has_extension',\n",
       " 'has_vector',\n",
       " 'label',\n",
       " 'label_',\n",
       " 'lefts',\n",
       " 'lemma_',\n",
       " 'lower_',\n",
       " 'merge',\n",
       " 'n_lefts',\n",
       " 'n_rights',\n",
       " 'noun_chunks',\n",
       " 'orth_',\n",
       " 'rights',\n",
       " 'root',\n",
       " 'sent',\n",
       " 'sentiment',\n",
       " 'set_extension',\n",
       " 'similarity',\n",
       " 'start',\n",
       " 'start_char',\n",
       " 'string',\n",
       " 'subtree',\n",
       " 'text',\n",
       " 'text_with_ws',\n",
       " 'to_array',\n",
       " 'upper_',\n",
       " 'vector',\n",
       " 'vector_norm']"
      ]
     },
     "execution_count": 40,
     "metadata": {},
     "output_type": "execute_result"
    }
   ],
   "source": [
    "##Dependency Parsing\n",
    "[prop for prop in dir(r2) if not prop.startswith('_')]"
   ]
  },
  {
   "cell_type": "code",
   "execution_count": 41,
   "metadata": {},
   "outputs": [
    {
     "data": {
      "text/plain": [
       "rode"
      ]
     },
     "execution_count": 41,
     "metadata": {},
     "output_type": "execute_result"
    }
   ],
   "source": [
    "r2.root"
   ]
  },
  {
   "cell_type": "code",
   "execution_count": 42,
   "metadata": {},
   "outputs": [
    {
     "data": {
      "text/plain": [
       "[Robin, north, ,, through, ,, accompanied, .]"
      ]
     },
     "execution_count": 42,
     "metadata": {},
     "output_type": "execute_result"
    }
   ],
   "source": [
    "list(r2.root.children)"
   ]
  },
  {
   "cell_type": "code",
   "execution_count": 43,
   "metadata": {},
   "outputs": [
    {
     "name": "stdout",
     "output_type": "stream",
     "text": [
      "Sir :  []\n",
      "Robin :  [Sir]\n",
      "rode :  [Robin, north, ,, through, ,, accompanied, .]\n",
      "north :  []\n",
      ", :  []\n",
      "through :  [forest]\n",
      "the :  []\n",
      "dark :  []\n",
      "forest :  [the, dark, of]\n",
      "of :  [Ewing]\n",
      "Ewing :  []\n",
      ", :  []\n",
      "accompanied :  [by]\n",
      "by :  [minstrels]\n",
      "his :  []\n",
      "favorite :  []\n",
      "minstrels :  [his, favorite]\n",
      ". :  [\n",
      "]\n",
      "\n",
      " :  []\n"
     ]
    }
   ],
   "source": [
    "for word in r2: \n",
    "    print(word, ': ', str(list(word.children)))"
   ]
  },
  {
   "cell_type": "markdown",
   "metadata": {},
   "source": [
    "You can already see how useful this might be. Since adjectives are typically children of the things they describe, we can get approximations for adjectives that describe characters. How is Sir Robin described?\n",
    "\n"
   ]
  },
  {
   "cell_type": "code",
   "execution_count": 49,
   "metadata": {},
   "outputs": [
    {
     "name": "stdout",
     "output_type": "stream",
     "text": [
      "brave\n",
      "brave\n",
      "brave\n",
      "brave\n",
      "brave\n"
     ]
    }
   ],
   "source": [
    "for sent in robinSents: \n",
    "    for word in sent: \n",
    "        if 'Robin' in word.string: \n",
    "            for child in word.children: \n",
    "                if child.pos_ == 'ADJ':\n",
    "                    print(child)"
   ]
  },
  {
   "cell_type": "code",
   "execution_count": 50,
   "metadata": {},
   "outputs": [
    {
     "data": {
      "text/plain": [
       "[('', 2811),\n",
       " ('Elizabeth', 616),\n",
       " ('Darcy', 406),\n",
       " ('Bennet', 305),\n",
       " ('Jane', 288),\n",
       " ('Bingley', 237),\n",
       " ('Wickham', 182),\n",
       " ('Collins', 179),\n",
       " ('Lydia', 164),\n",
       " ('Lizzy', 95)]"
      ]
     },
     "execution_count": 50,
     "metadata": {},
     "output_type": "execute_result"
    }
   ],
   "source": [
    "#most frequent characters in pride\n",
    "Counter([w.string.strip() for w in pride.ents if w.label_ == 'PERSON']).most_common(10)"
   ]
  },
  {
   "cell_type": "code",
   "execution_count": 51,
   "metadata": {
    "collapsed": true
   },
   "outputs": [],
   "source": [
    "def adjectivesDescribingCharacters(text, character):\n",
    "    sents = [sent for sent in pride.sents if character in sent.string]\n",
    "    adjectives = []\n",
    "    for sent in sents: \n",
    "        for word in sent: \n",
    "            if character in word.string:\n",
    "                for child in word.children: \n",
    "                    if child.pos_ == 'ADJ': \n",
    "                        adjectives.append(child.string.strip())\n",
    "    return Counter(adjectives).most_common(10)"
   ]
  },
  {
   "cell_type": "code",
   "execution_count": 56,
   "metadata": {},
   "outputs": [
    {
     "data": {
      "text/plain": [
       "[('“', 6),\n",
       " ('late', 6),\n",
       " ('superior', 1),\n",
       " ('abominable', 1),\n",
       " ('poor', 1),\n",
       " ('intelligible', 1),\n",
       " ('her', 1),\n",
       " ('little', 1),\n",
       " ('disagreeable', 1)]"
      ]
     },
     "execution_count": 56,
     "metadata": {},
     "output_type": "execute_result"
    }
   ],
   "source": [
    "adjectivesDescribingCharacters(pride, 'Darcy')"
   ]
  },
  {
   "cell_type": "code",
   "execution_count": 57,
   "metadata": {
    "collapsed": true
   },
   "outputs": [],
   "source": [
    "elizabethSentences = [sent for sent in pride.sents if 'Elizabeth' in sent.string]"
   ]
  },
  {
   "cell_type": "code",
   "execution_count": 58,
   "metadata": {},
   "outputs": [
    {
     "data": {
      "text/plain": [
       "Mr. Darcy walked off; and Elizabeth\n",
       "remained with no very cordial feelings toward him."
      ]
     },
     "execution_count": 58,
     "metadata": {},
     "output_type": "execute_result"
    }
   ],
   "source": [
    "elizabethSentences[3]"
   ]
  },
  {
   "cell_type": "markdown",
   "metadata": {},
   "source": [
    "We want the verb associated with Elizabeth, remained, not the root verb of the sentence, walked, which is associated with Mr. Darcy. So let's write a function that will walk up the dependency tree from a character's name until we get to the first verb. We'll use lemmas instead of the conjugated forms to collapse remain, remains, and remained into one verb: remain."
   ]
  },
  {
   "cell_type": "code",
   "execution_count": 59,
   "metadata": {
    "collapsed": true
   },
   "outputs": [],
   "source": [
    "def verbsForCharacters(text, character):\n",
    "    sents = [sent for sent in pride.sents if character in sent.string]\n",
    "    charWords = []\n",
    "    for sent in sents: \n",
    "        for word in sent: \n",
    "            if character in word.string: \n",
    "                charWords.append(word)\n",
    "    charAdjectives = []\n",
    "    for word in charWords: \n",
    "        # Start walking up the list of ancestors \n",
    "        # Until we get to the first verb. \n",
    "        for ancestor in word.ancestors: \n",
    "            if ancestor.pos_.startswith('V'): \n",
    "                charAdjectives.append(ancestor.lemma_.strip())\n",
    "    return Counter(charAdjectives).most_common(20)"
   ]
  },
  {
   "cell_type": "code",
   "execution_count": 60,
   "metadata": {},
   "outputs": [
    {
     "data": {
      "text/plain": [
       "[('be', 173),\n",
       " ('say', 65),\n",
       " ('have', 32),\n",
       " ('cry', 24),\n",
       " ('reply', 22),\n",
       " ('see', 22),\n",
       " ('feel', 21),\n",
       " ('make', 18),\n",
       " ('look', 16),\n",
       " ('receive', 12),\n",
       " ('find', 11),\n",
       " ('go', 10),\n",
       " ('give', 10),\n",
       " ('begin', 9),\n",
       " ('take', 9),\n",
       " ('help', 9),\n",
       " ('listen', 8),\n",
       " ('think', 8),\n",
       " ('pass', 8),\n",
       " ('walk', 7)]"
      ]
     },
     "execution_count": 60,
     "metadata": {},
     "output_type": "execute_result"
    }
   ],
   "source": [
    "elizabethVerbs = verbsForCharacters(pride, 'Elizabeth')\n",
    "elizabethVerbs"
   ]
  },
  {
   "cell_type": "code",
   "execution_count": 63,
   "metadata": {},
   "outputs": [],
   "source": [
    "darcyVerbs = verbsForCharacters(pride, 'Darcy')\n",
    "janeVerbs = verbsForCharacters(pride, 'Jane')\n"
   ]
  },
  {
   "cell_type": "code",
   "execution_count": 64,
   "metadata": {},
   "outputs": [
    {
     "data": {
      "text/plain": [
       "<matplotlib.axes._subplots.AxesSubplot at 0x13603b9e8>"
      ]
     },
     "execution_count": 64,
     "metadata": {},
     "output_type": "execute_result"
    },
    {
     "data": {
      "image/png": "[encoded data removed]",
      "text/plain": [
       "<matplotlib.figure.Figure at 0x1367e8940>"
      ]
     },
     "metadata": {},
     "output_type": "display_data"
    }
   ],
   "source": [
    "def verbsToMatrix(verbCounts): \n",
    "    \"\"\" \n",
    "    Takes verb counts given by verbsForCharacters \n",
    "    and makes Pandas Series out of them, suitabe for combination in \n",
    "    a DataFrame. \n",
    "    \"\"\"\n",
    "    return pd.Series({t[0]: t[1] for t in verbCounts})\n",
    "\n",
    "verbsDF = pd.DataFrame({'Elizabeth': verbsToMatrix(elizabethVerbs), \n",
    "                        'Darcy': verbsToMatrix(darcyVerbs), \n",
    "                        'Jane': verbsToMatrix(janeVerbs)}).fillna(0)\n",
    "verbsDF.plot(kind='bar', figsize=(14,4))"
   ]
  },
  {
   "cell_type": "code",
   "execution_count": 65,
   "metadata": {},
   "outputs": [
    {
     "data": {
      "text/plain": [
       "<matplotlib.axes._subplots.AxesSubplot at 0x13687b908>"
      ]
     },
     "execution_count": 65,
     "metadata": {},
     "output_type": "execute_result"
    },
    {
     "data": {
      "image/png": "[encoded data removed]",
      "text/plain": [
       "<matplotlib.figure.Figure at 0x136821be0>"
      ]
     },
     "metadata": {},
     "output_type": "display_data"
    }
   ],
   "source": [
    "##Probabilities\n",
    "#SpaCy has a list of probabilities for English words, and these probabilities are automatically associated with each word once we parse the document. \n",
    "#Let's see what the distribution is like:\n",
    "\n",
    "probabilities = [word.prob for word in grail] \n",
    "pd.Series(probabilities).hist()"
   ]
  },
  {
   "cell_type": "code",
   "execution_count": 66,
   "metadata": {},
   "outputs": [
    {
     "data": {
      "text/plain": [
       "['hiyaah',\n",
       " 'goodem',\n",
       " 'approacheth',\n",
       " 'zoosh',\n",
       " 'angnor',\n",
       " 'bors',\n",
       " 'ehh--',\n",
       " 'seen--',\n",
       " 'donaeis',\n",
       " 'rather--',\n",
       " 'zoot',\n",
       " 'ninepence',\n",
       " 'our--',\n",
       " 'galahad',\n",
       " 'u--',\n",
       " 'uh--',\n",
       " 'merger--',\n",
       " 'erbert',\n",
       " 'where--',\n",
       " 'camaaaaaargue']"
      ]
     },
     "execution_count": 66,
     "metadata": {},
     "output_type": "execute_result"
    }
   ],
   "source": [
    "list(set([word.string.strip().lower() for word in grail if word.prob < -19]))[:20]"
   ]
  },
  {
   "cell_type": "code",
   "execution_count": 67,
   "metadata": {},
   "outputs": [
    {
     "data": {
      "text/plain": [
       "[('bedevere', 61),\n",
       " ('head', 54),\n",
       " ('bridgekeeper', 18),\n",
       " ('zoot', 14),\n",
       " ('minstrel', 13),\n",
       " ('concorde', 12),\n",
       " ('rewr', 10),\n",
       " ('person', 8),\n",
       " ('crone', 7),\n",
       " ('aaaaugh', 7),\n",
       " ('a--', 5),\n",
       " ('twong', 4),\n",
       " ('aaaugh', 4),\n",
       " (\"we're--\", 4),\n",
       " ('number', 4),\n",
       " ('ninepence', 3),\n",
       " ('u--', 3),\n",
       " ('w--', 3),\n",
       " ('hiyya', 3),\n",
       " ('um--', 3)]"
      ]
     },
     "execution_count": 67,
     "metadata": {},
     "output_type": "execute_result"
    }
   ],
   "source": [
    "#counting improbable words\n",
    "Counter([word.string.strip().lower() \n",
    "         for word in grail \n",
    "         if word.prob < -19.5]).most_common(20)"
   ]
  },
  {
   "cell_type": "code",
   "execution_count": 68,
   "metadata": {},
   "outputs": [
    {
     "data": {
      "text/plain": [
       "[('rosings', 26),\n",
       " ('gentlemanlike', 8),\n",
       " ('twelvemonth', 7),\n",
       " ('number', 5),\n",
       " ('quadrille', 4),\n",
       " ('mark', 4),\n",
       " ('repine', 4),\n",
       " ('parsonage', 4),\n",
       " ('discomposure', 3),\n",
       " ('regimentals', 3),\n",
       " ('suitableness', 3),\n",
       " ('overspread', 3),\n",
       " ('composedly', 3),\n",
       " ('fretfully', 2),\n",
       " ('archly', 2),\n",
       " ('unaffectedly', 2),\n",
       " ('panegyric', 2),\n",
       " ('precipitance', 2),\n",
       " ('prepossession', 2),\n",
       " ('discomposed', 2)]"
      ]
     },
     "execution_count": 68,
     "metadata": {},
     "output_type": "execute_result"
    }
   ],
   "source": [
    "Counter([word.string.strip().lower() \n",
    "         for word in pride \n",
    "         if word.prob < -19.5 \n",
    "         and word.is_alpha\n",
    "         and word.pos_ != 'PROPN'] # This time, let's ignore proper nouns.\n",
    "       ).most_common(20)"
   ]
  },
  {
   "cell_type": "code",
   "execution_count": 69,
   "metadata": {
    "collapsed": true
   },
   "outputs": [],
   "source": [
    "##do this with ngrams\n",
    "def ngrams(doc, n): \n",
    "    doc = [word for word in doc \n",
    "           if word.is_alpha # Get rid of punctuation\n",
    "           if not word.string.isupper()] # Get rid of all-caps speaker headings\n",
    "    return list(zip(*[doc[i:] for i in range(n)]))"
   ]
  },
  {
   "cell_type": "code",
   "execution_count": 70,
   "metadata": {
    "collapsed": true
   },
   "outputs": [],
   "source": [
    "grailGrams = set(ngrams(grail, 3))"
   ]
  },
  {
   "cell_type": "code",
   "execution_count": 71,
   "metadata": {},
   "outputs": [
    {
     "name": "stdout",
     "output_type": "stream",
     "text": [
      "(boom, pweeng, boom)\n",
      "(wom, Neee, wom)\n",
      "(Pie, Iesu, domine)\n",
      "(domine, Wayy, splash)\n",
      "(fwump, Concorde, Concorde)\n",
      "(Shh, Shh, Shh)\n",
      "(clang, squeak, squeak)\n",
      "(chanting, Pie, Iesu)\n",
      "(domine, dona, eisrequiem)\n",
      "(liege, trumpets, Camelot)\n",
      "(Olfin, Bedwere, of)\n",
      "(chanting, Pie, Iesu)\n",
      "(Tim, Quite, pweeng)\n",
      "(clank, scribble, scribble)\n",
      "(trusty, servant, Patsy)\n",
      "(dona, eisrequiem, How)\n",
      "(Pie, Iesu, domine)\n",
      "(Iesu, domine, dona)\n",
      "(Wayy, twang, whispering)\n",
      "(clop, clop, Ooh)\n",
      "(rewr, rewr, rewr)\n",
      "(bonk, dona, eis)\n",
      "(uh, Launcelot, Galahad)\n",
      "(haw, haw, Ha)\n",
      "(Cherries, Mud, Churches)\n",
      "(vache, mooo, If)\n",
      "(English, k, nnniggets)\n",
      "(wicked, wicked, Zoot)\n",
      "(clop, clop, clop)\n",
      "(Aaaugh, dramatic, chord)\n",
      "(ecky, ecky, ecky)\n",
      "(Charge, squeak, squeak)\n",
      "(nnniggets, Thpppt, taunting)\n",
      "(Ow, Ow, Agh)\n",
      "(Hiyah, Aah, Aaah)\n",
      "(then, twong, mooooooo)\n",
      "(clop, clop, clop)\n",
      "(squeak, squeak, Aaaaugh)\n",
      "(clop, clop, Halt)\n",
      "(bois, Quoi, Un)\n",
      "(number, thou, shalt)\n",
      "(Hyy, Hya, Hiyya)\n",
      "(de, bois, Quoi)\n",
      "(Iesu, domine, dona)\n",
      "(Pie, Iesu, domine)\n",
      "(Shh, Shh, Shh)\n",
      "(bonk, Pie, Iesu)\n",
      "(clunk, creak, witch)\n",
      "(Ni, Ni, Ni)\n",
      "(un, lapin, lapin)\n",
      "(ha, Huy, Uuh)\n",
      "(dona, eis, requiem)\n",
      "(Hee, hee, hee)\n",
      "(Huyah, clang, Hiyaah)\n",
      "(boom, Thsss, boom)\n",
      "(bathing, dressing, undressing)\n",
      "(Aaaugh, Aaaugh, Augh)\n",
      "(Listen, Herbert, Erbert)\n",
      "(clop, clop, clop)\n",
      "(Quite, indefatigable, Between)\n",
      "(Ni, Ni, Ni)\n",
      "(squeak, squeak, clllank)\n",
      "(sell, shrubberies, Ni)\n",
      "(Iesu, domine, donaeis)\n",
      "(dead, rewr, clang)\n",
      "(Woa, wayy, twang)\n",
      "(Neee, wom, Those)\n",
      "(Say, Ecky, ecky)\n",
      "(Neee, wom, Neee)\n",
      "(carve, aaggggh, He)\n",
      "(Agh, Ni, Ni)\n",
      "(Grail, individually, clop)\n",
      "(Thpppt, taunting, We)\n",
      "(cadeau, Oui, oui)\n",
      "(Thsss, boom, Ayy)\n",
      "(dangerous, Sir, Launcelot)\n",
      "(Launcelot, angels, sing)\n",
      "(Hee, hee, heh)\n",
      "(English, k, niggets)\n",
      "(Sir, Bedevere, Knight)\n",
      "(Iesu, domine, bonk)\n",
      "(squeak, clllank, What)\n",
      "(squeak, Aaaugh, dramatic)\n",
      "(Ni, Ni, Ni)\n",
      "(Pie, Iesu, domine)\n",
      "(chanting, dona, eis)\n",
      "(Concorde, thwonk, Message)\n",
      "(rewr, rewr, rewr)\n",
      "(Morning, Oooh, ptoo)\n",
      "(awaaay, Run, awaaaaay)\n",
      "(knights, Nay, Nay)\n",
      "(Ages, Umhm, uh)\n",
      "(Aah, boom, pweeng)\n",
      "(Heee, Hoa, crash)\n",
      "(clunk, crash, clang)\n",
      "(Look, squeak, Aaaugh)\n",
      "(knight, Sir, Galahad)\n",
      "(Aaaaaah, Aaaaaaaaah, woosh)\n",
      "(Launcelot, Launcelot, Launcelot)\n",
      "(Shrubber, arrange, design)\n",
      "(bonk, Pie, Iesu)\n",
      "(Old, crone, rewr)\n",
      "(eis, requiem, Heh)\n",
      "(Quoi, Un, cadeau)\n",
      "(dona, eis, requiem)\n",
      "(Pie, Iesu, domine)\n",
      "(place, Aaaaugh, Aaaaugh)\n",
      "(Fetchez, la, vache)\n",
      "(Brave, Sir, Gallahad)\n",
      "(ecky, ecky, pikang)\n",
      "(clop, clop, clop)\n",
      "(Oui, oui, Hurry)\n",
      "(persons, taunting, Dappy)\n",
      "(English, k, nnnnniggets)\n",
      "(Ho, ho, Woa)\n",
      "(today, Heee, Hoa)\n",
      "(Hiyya, Hey, Hiyya)\n",
      "(Haw, Haw, haw)\n",
      "(Churches, Lead, Lead)\n",
      "(squeak, rrrr, rrrr)\n",
      "(haw, heh, clack)\n",
      "(Iesu, domine, bonk)\n",
      "(Right, Yeaaah, Yeaah)\n",
      "(clop, Halt, horn)\n",
      "(Shh, Shh, Shh)\n",
      "(Shh, Shh, Shh)\n",
      "(Concorde, Concorde, Speak)\n",
      "(Ni, Ni, Ni)\n",
      "(clunk, bang, rewr)\n",
      "(French, fellows, outwit)\n",
      "(Fetchez, la, vache)\n",
      "(Wayy, twang, Wayy)\n",
      "(zoo, owli, zhiv)\n",
      "(relics, Brother, Maynard)\n",
      "(Dramatically, sir, Dramatically)\n",
      "(Shh, Ni, Ni)\n",
      "(requiem, bonk, Pie)\n",
      "(Thppppt, taunting, Fiends)\n",
      "(ecky, pikang, zoop)\n",
      "(clop, clop, whinny)\n",
      "(uh, Launcelot, Galahad)\n",
      "(clop, clop, Halt)\n",
      "(rewr, squeak, squeak)\n",
      "(Thppt, Thppt, What)\n",
      "(boing, goodem, zoo)\n",
      "(supports, whop, clunk)\n",
      "(domine, dona, eis)\n",
      "(clop, clop, clop)\n",
      "(requiem, bonk, Pie)\n",
      "(Round, Table, clop)\n",
      "(heh, heeh, ooh)\n",
      "(clop, whinny, whinny)\n",
      "(squeak, squeak, squeak)\n",
      "(clang, Huyah, clang)\n",
      "(wise, Sir, Bedevere)\n",
      "(Aaaugh, Augh, Ohh)\n",
      "(Castle, Aaagh, Our)\n",
      "(ptoo, Ha, ha)\n",
      "(squeak, squeak, squeak)\n",
      "(Sir, Launcelot, Hurry)\n",
      "(Ninepence, clang, Bring)\n",
      "(Mud, Churches, Churches)\n",
      "(Ha, haw, haw)\n",
      "(ho, Woa, wayy)\n",
      "(wayy, twang, splash)\n",
      "(squeak, squeak, squeak)\n",
      "(taunting, Fiends, tear)\n",
      "(Halt, horn, Hallo)\n",
      "(clop, clop, clop)\n",
      "(Christ, thud, Allo)\n",
      "(squeak, squeak, squeak)\n",
      "(Camelot, Hurry, Sir)\n",
      "(la, vache, Quoi)\n",
      "(pikang, zoop, boing)\n",
      "(Hya, Hiyya, Ha)\n",
      "(Churches, Churches, Lead)\n",
      "(Ni, Ni, Agh)\n",
      "(Launcelot, Launcelot, police)\n",
      "(dona, eis, requiem)\n",
      "(clop, clop, boom)\n",
      "(Iesu, domine, Wayy)\n",
      "(Armaments, Armaments, Chapter)\n",
      "(requiem, Pie, Iesu)\n",
      "(dappy, English, k)\n",
      "(Hoa, crash, Hoo)\n",
      "(wooden, clank, twong)\n",
      "(Launcelot, and, Galahad)\n",
      "(un, cadeau, Oui)\n",
      "(whop, clunk, creak)\n",
      "(Aaaaugh, Aaaaugh, Stop)\n",
      "(Away, away, varletesses)\n",
      "(stops, Aaagh, Ooh)\n",
      "(awhile, Midget, Crapper)\n",
      "(requiem, Wayy, twang)\n",
      "(clop, clop, rewr)\n",
      "(mangy, scots, git)\n",
      "(eis, requiem, Pie)\n",
      "(Idiom, sir, Idiom)\n",
      "(radio, Launcelot, Launcelot)\n",
      "(impersonate, Clark, Gable)\n",
      "(servant, Sir, Launcelot)\n",
      "(Pie, Iesu, domine)\n",
      "(minstrels, singing, Bravely)\n",
      "(Haw, haw, heh)\n",
      "(most, twong, baaaa)\n",
      "(domine, dona, eis)\n",
      "(squeak, thump, squeak)\n",
      "(zhiv, Ni, Therefore)\n",
      "(drilllll, sawwwww, clunk)\n",
      "(requiem, Pie, Iesu)\n",
      "(rewr, rewr, rewr)\n",
      "(squeak, squeak, squeak)\n",
      "(Hiyaah, clang, Aaaaaaaah)\n",
      "(Ow, Ow, Ow)\n",
      "(Iesu, domine, dona)\n",
      "(Ni, Ni, Ni)\n",
      "(Pie, Iesu, domine)\n",
      "(Saint, Iiiives, Iiiiives)\n",
      "(ooh, twang, chanting)\n",
      "(clop, rewr, rewr)\n",
      "(Bedwere, of, Rheged)\n",
      "(Herbert, Erbert, We)\n",
      "(lobbest, thou, thy)\n",
      "(stops, stab, Aagh)\n",
      "(Aaauugh, Black, Beast)\n",
      "(rrrr, rrrr, rrrr)\n",
      "(squeak, squeak, squeak)\n",
      "(twang, whispering, Forgive)\n",
      "(Yeaaah, Yeaah, Did)\n",
      "(taunting, Dappy, Today)\n",
      "(Launcelot, Launcelot, Launcelot)\n",
      "(Ay, up, Thsss)\n",
      "(brave, Sir, Launcelot)\n",
      "(purest, shimmering, samite)\n",
      "(clop, clop, clop)\n",
      "(Iesu, domine, dona)\n",
      "(hee, hee, Hee)\n",
      "(Shh, Shh, Shh)\n",
      "(crone, rewr, music)\n",
      "(Hurry, Sir, Launcelot)\n",
      "(bonk, dona, eis)\n",
      "(attack, Ulk, thump)\n",
      "(Ni, Ni, Ni)\n",
      "(squeak, squeak, creak)\n",
      "(Launcelot, Galahad, and)\n",
      "(zoop, boing, goodem)\n",
      "(squeak, squeak, squeak)\n",
      "(mooooooo, Jesus, Christ)\n",
      "(dorsal, guiding, feathers)\n",
      "(squeak, squeak, squeak)\n",
      "(thonk, Um, woosh)\n",
      "(rewr, rewr, rewr)\n",
      "(va, Bon, magne)\n",
      "(clop, clop, clop)\n",
      "(dona, eis, requiem)\n",
      "(Quoi, Fetchez, la)\n",
      "(individually, clop, clop)\n",
      "(Aaagh, King, Arthur)\n",
      "(squeak, squeak, squeak)\n",
      "(bang, rewr, squeak)\n",
      "(lapin, de, bois)\n",
      "(uh, Camelot, Hurry)\n",
      "(pweeng, boom, boom)\n",
      "(clop, clop, clop)\n",
      "(Hallo, Allo, Who)\n",
      "(shrubberies, Yes, Shrubberies)\n",
      "(Ni, Ni, Shh)\n",
      "(haw, haw, haw)\n",
      "(Ni, Ni, Ni)\n",
      "(requiem, Pie, Iesu)\n",
      "(Sir, Launcelot, sir)\n",
      "(Sir, Bedevere, Explain)\n",
      "(Ecky, ecky, ecky)\n",
      "(owli, zhiv, Ni)\n",
      "(hee, Hee, hee)\n",
      "(Iiiiives, Oooohoohohooo, No)\n",
      "(afoot, Anarcho, syndicalism)\n",
      "(Run, awaaaaay, roar)\n",
      "(squeak, squeak, squeak)\n",
      "(domine, dona, eis)\n",
      "(Hallo, pause, Hallo)\n",
      "(Thy, Hah, clunk)\n",
      "(Heh, heh, heeh)\n",
      "(k, nnnnniggets, Thpppppt)\n",
      "(twang, chanting, Pie)\n",
      "(chanting, Pie, Iesu)\n",
      "(Launcelot, Galahad, and)\n",
      "(Pie, Iesu, domine)\n",
      "(rewr, clang, Bring)\n",
      "(gravy, Cherries, Mud)\n",
      "(la, vache, mooo)\n",
      "(twong, baaaa, Jesus)\n",
      "(Ni, Ni, Shh)\n",
      "(thump, squeak, boom)\n",
      "(uuggggggh, Aauuggghhh, Aaauggh)\n",
      "(auuuuuuuugh, Hee, hee)\n",
      "(dead, Ninepence, clang)\n",
      "(eis, requiem, bonk)\n",
      "(Say, Ni, Aggh)\n",
      "(clop, clop, clop)\n",
      "(squeak, squeak, squeak)\n",
      "(Shh, Shh, Shh)\n",
      "(heh, chanting, dona)\n",
      "(pweeng, boom, clap)\n",
      "(Ni, Ow, Ow)\n",
      "(sir, fwump, Concorde)\n",
      "(Ni, Ni, Ni)\n",
      "(squeak, creak, whispering)\n",
      "(Iesu, domine, witch)\n",
      "(Launcelot, Launcelot, Launcelot)\n",
      "(Uuh, Aaah, Ha)\n",
      "(Sir, Launcelot, Uh)\n",
      "(whispering, un, lapin)\n",
      "(hee, hee, hee)\n",
      "(Ni, Shh, Ni)\n",
      "(Ni, Ni, Ni)\n",
      "(Zoot, Just, Zoot)\n",
      "(Oooh, ptoo, Ha)\n",
      "(Launcelot, Launcelot, angels)\n",
      "(farcical, aquatic, ceremony)\n",
      "(Iiiives, Iiiiives, Oooohoohohooo)\n",
      "(Ni, Ni, Ni)\n",
      "(Ector, And, Bors)\n",
      "(Launcelot, Hurry, Shut)\n",
      "(Launcelot, Launcelot, Launcelot)\n",
      "(music, resumes, Launcelot)\n",
      "(Chicken, kick, Chickennn)\n",
      "(on, Concorde, thwonk)\n",
      "(stops, Aaagh, clang)\n",
      "(dona, eis, requiem)\n",
      "(scarper, singing, Brave)\n",
      "(squeak, Aaaaugh, Aaaugh)\n",
      "(Run, awaaay, Run)\n",
      "(thud, thud, thud)\n",
      "(Gawain, Ector, And)\n",
      "(Hurry, Sir, Launcelot)\n",
      "(trumpets, Camelot, Camelot)\n",
      "(squeak, squeak, rrrr)\n",
      "(away, Thppppt, taunting)\n",
      "(Ha, ha, Hiyya)\n",
      "(Aaah, hiyaah, etc)\n",
      "(Aah, Aaah, Hyy)\n",
      "(awaaaaay, roar, Keep)\n",
      "(Thou, hast, vouchsafed)\n",
      "(chanting, Pie, Iesu)\n",
      "(Ni, Ni, Ni)\n",
      "(squeak, squeak, squeak)\n",
      "(Wayy, splash, Ho)\n",
      "(and, Neee, wom)\n",
      "(pause, Hallo, Allo)\n",
      "(rrrr, rrrr, drilllll)\n",
      "(hee, hee, hee)\n",
      "(Ni, Agh, Ni)\n",
      "(clank, twong, Run)\n",
      "(domine, dona, eis)\n",
      "(eis, requiem, Pie)\n",
      "(yes, Saint, Iiiives)\n",
      "(hiyaah, etc, chops)\n",
      "(Aauuggghhh, Aaauggh, Do)\n",
      "(Aaagh, Ooh, King)\n",
      "(lapin, lapin, de)\n",
      "(Pie, Iesu, domine)\n",
      "(clop, clop, Whoa)\n",
      "(dona, eis, requiem)\n",
      "(etc, Aaaaaah, Aaaaaaaaah)\n",
      "(thou, mayest, blow)\n",
      "(samite, held, aloft)\n",
      "(scribble, scribble, fold)\n",
      "(dappy, English, k)\n",
      "(vache, Quoi, Fetchez)\n",
      "(thud, clang, Bring)\n",
      "(rewr, Old, crone)\n",
      "(laden, swallows, flights)\n",
      "(eis, requiem, bonk)\n",
      "(Ulk, thump, The)\n",
      "(domine, witch, witch)\n",
      "(Ni, Ni, Ni)\n",
      "(clop, clop, clop)\n",
      "(scribble, scribble, scribble)\n",
      "(squeak, squeak, squeak)\n",
      "(Allo, dappy, English)\n",
      "(Umm, clop, clop)\n",
      "(shrubberies, Ni, cough)\n",
      "(lose, Gawain, Ector)\n",
      "(Bon, magne, Over)\n",
      "(squeak, squeak, squeak)\n",
      "(Iesu, domine, dona)\n",
      "(clop, clop, clop)\n",
      "(eis, requiem, Wayy)\n",
      "(howl, clop, clop)\n",
      "(chanting, Pie, Iesu)\n",
      "(haw, Haw, Haw)\n",
      "(fold, fold, twong)\n",
      "(Peng, and, Neee)\n",
      "(roar, Shh, Shh)\n",
      "(domine, bonk, dona)\n",
      "(Silence, foul, temptress)\n",
      "(fair, cop, Burn)\n",
      "(Quite, pweeng, boom)\n",
      "(twong, mooooooo, Jesus)\n",
      "(nnnnniggets, Thpppppt, Thppt)\n",
      "(domine, bonk, dona)\n",
      "(squeak, squeak, squeak)\n",
      "(sawwwww, clunk, crash)\n",
      "(goodem, zoo, owli)\n",
      "(heeh, ooh, twang)\n",
      "(clang, Hiyaah, clang)\n",
      "(haw, haw, Haw)\n",
      "(haw, haw, haw)\n",
      "(eis, requiem, witch)\n",
      "(Shut, uuup, singing)\n",
      "(Grenade, chanting, Pie)\n",
      "(Table, clop, clop)\n",
      "(clop, clop, clop)\n",
      "(mayest, blow, thine)\n",
      "(No, auuuuuuuugh, Hee)\n",
      "(resumes, Launcelot, Launcelot)\n",
      "(unsingable, We, opera)\n",
      "(rewr, rewr, Old)\n",
      "(pansy, clang, Huyah)\n",
      "(clang, Aaaaaaaah, chops)\n",
      "(Ni, Ni, Ni)\n",
      "(Ni, Ni, Ni)\n",
      "(k, nnniggets, Thpppt)\n",
      "(Ni, Shh, Shh)\n",
      "(Camelot, Camelot, Camelot)\n",
      "(Ni, Ni, Ow)\n",
      "(dona, eis, requiem)\n",
      "(donaeis, requiem, Pie)\n",
      "(Just, uuggggggh, Aauuggghhh)\n",
      "(Pie, Iesu, domine)\n",
      "(Aaah, Hyy, Hya)\n",
      "(done, Aaaugh, Aaaugh)\n",
      "(twang, Wayy, twang)\n",
      "(thud, Allo, dappy)\n",
      "(Thpppppt, Thppt, Thppt)\n",
      "(Huy, Uuh, Aaah)\n",
      "(Aah, Hiyah, Aah)\n",
      "(Launcelot, Launcelot, Launcelot)\n",
      "(Ni, Shh, Shh)\n",
      "(Aaaaugh, Aaaugh, etc)\n",
      "(shimmering, samite, held)\n",
      "(rrrr, drilllll, sawwwww)\n"
     ]
    },
    {
     "name": "stdout",
     "output_type": "stream",
     "text": [
      "(anarcho, syndicalist, commune)\n",
      "(Thsss, boom, Ayy)\n",
      "(quack, quack, quack)\n",
      "(Splendid, Aah, boom)\n",
      "(Aaaaaaaaah, woosh, kills)\n",
      "(of, Olfin, Bedwere)\n",
      "(domine, donaeis, requiem)\n"
     ]
    }
   ],
   "source": [
    "for gram in grailGrams: \n",
    "    if sum([word.prob for word in gram]) < -40: \n",
    "        print(gram)"
   ]
  },
  {
   "cell_type": "code",
   "execution_count": 72,
   "metadata": {
    "collapsed": true
   },
   "outputs": [],
   "source": [
    "#word embeddings (word vectors)\n",
    "coconut, africanSwallow, europeanSwallow, horse = nlp('coconut'), nlp('African Swallow'), nlp('European Swallow'), nlp('horse')"
   ]
  },
  {
   "cell_type": "code",
   "execution_count": 73,
   "metadata": {},
   "outputs": [
    {
     "data": {
      "text/plain": [
       "0.15660883152130853"
      ]
     },
     "execution_count": 73,
     "metadata": {},
     "output_type": "execute_result"
    }
   ],
   "source": [
    "coconut.similarity(horse)"
   ]
  },
  {
   "cell_type": "code",
   "execution_count": 74,
   "metadata": {
    "collapsed": true
   },
   "outputs": [],
   "source": [
    "prideNouns = [word for word in pride if word.pos_.startswith('N')][:150]"
   ]
  },
  {
   "cell_type": "code",
   "execution_count": 75,
   "metadata": {
    "collapsed": true
   },
   "outputs": [],
   "source": [
    "prideNounVecs = [word.vector for word in prideNouns]\n",
    "prideNounLabels = [word.string.strip() for word in prideNouns]"
   ]
  },
  {
   "cell_type": "code",
   "execution_count": 76,
   "metadata": {},
   "outputs": [
    {
     "data": {
      "text/plain": [
       "(300,)"
      ]
     },
     "execution_count": 76,
     "metadata": {},
     "output_type": "execute_result"
    }
   ],
   "source": [
    "prideNounVecs[0].shape"
   ]
  },
  {
   "cell_type": "markdown",
   "metadata": {},
   "source": [
    "A single vector is 300-dimensional, so in order to plot it in 2D, it might help to reduce the dimensionality to the most meaningful dimensions. We can use Scikit-Learn to perform truncated singular value decomposition for latent semantic analysis (LSA)."
   ]
  },
  {
   "cell_type": "code",
   "execution_count": 77,
   "metadata": {
    "collapsed": true
   },
   "outputs": [],
   "source": [
    "lsa = TruncatedSVD(n_components=2)\n",
    "lsaOut = lsa.fit_transform(prideNounVecs)"
   ]
  },
  {
   "cell_type": "code",
   "execution_count": 78,
   "metadata": {},
   "outputs": [
    {
     "data": {
      "image/png": "[encoded data removed]",
      "text/plain": [
       "<matplotlib.figure.Figure at 0x1389ceda0>"
      ]
     },
     "metadata": {},
     "output_type": "display_data"
    }
   ],
   "source": [
    "xs, ys = lsaOut[:,0], lsaOut[:,1]\n",
    "for i in range(len(xs)): \n",
    "    plt.scatter(xs[i], ys[i])\n",
    "    plt.annotate(prideNounLabels[i], (xs[i], ys[i]))"
   ]
  },
  {
   "cell_type": "markdown",
   "metadata": {},
   "source": [
    "## Document Vectorization\n",
    "This uses a non-semantic technique for vectorizing documents, just using bag-of-words. We won't need any of the fancy features of SpaCy for this, just scikit-learn. We'll use a subset of the Inaugural Address Corpus that contains 20th and 21st century inaugural addresses.\n",
    "First, we'll vectorize the corpus using scikit-learn's TfidfVectorizer class. This creates a matrix of word frequencies. (It doesn't actually use TF-IDF, since we're turning that off in the options below.)\n"
   ]
  },
  {
   "cell_type": "code",
   "execution_count": 79,
   "metadata": {
    "collapsed": true
   },
   "outputs": [],
   "source": [
    "tfidf = TfidfVectorizer(input='filename', decode_error='ignore', use_idf=False)"
   ]
  },
  {
   "cell_type": "code",
   "execution_count": 80,
   "metadata": {
    "collapsed": true
   },
   "outputs": [],
   "source": [
    "inauguralFilenames = sorted(glob('inaugural/*'))\n",
    "\n",
    "# Make labels by removing the directory name and .txt extension: \n",
    "labels = [filename.split('/')[1] for filename in inauguralFilenames]\n",
    "labels = [filename.split('.')[0] for filename in labels]\n",
    "\n",
    "# While we're at it, let's make a list of the lengths, so we can use them to plot dot sizes. \n",
    "lengths = [len(open(filename, errors='ignore').read())/100 for filename in inauguralFilenames]\n",
    "\n",
    "# Add a manually compiled list of presidential party affiliations, \n",
    "# So that we can use this to color our dots. \n",
    "parties = 'rrrbbrrrbbbbbrrbbrrbrrrbbrrbr'"
   ]
  },
  {
   "cell_type": "code",
   "execution_count": 81,
   "metadata": {
    "collapsed": true
   },
   "outputs": [],
   "source": [
    "tfidfOut = tfidf.fit_transform(inauguralFilenames)"
   ]
  },
  {
   "cell_type": "code",
   "execution_count": 82,
   "metadata": {},
   "outputs": [
    {
     "data": {
      "text/plain": [
       "(29, 6177)"
      ]
     },
     "execution_count": 82,
     "metadata": {},
     "output_type": "execute_result"
    }
   ],
   "source": [
    "tfidfOut.shape"
   ]
  },
  {
   "cell_type": "code",
   "execution_count": 83,
   "metadata": {
    "collapsed": true
   },
   "outputs": [],
   "source": [
    "lsaOut = lsa.fit_transform(tfidfOut.todense())"
   ]
  },
  {
   "cell_type": "markdown",
   "metadata": {},
   "source": [
    "xs, ys = lsaOut[:,0], lsaOut[:,1]\n",
    "for i in range(len(xs)): \n",
    "    plt.scatter(xs[i], ys[i], c=parties[i], s=lengths[i], alpha=0.5)\n",
    "    plt.annotate(labels[i], (xs[i], ys[i]))"
   ]
  },
  {
   "cell_type": "code",
   "execution_count": 85,
   "metadata": {
    "collapsed": true
   },
   "outputs": [],
   "source": [
    "## Average Sentence Lengths\n",
    "inaugural = [nlp(open(doc, errors='ignore').read()) for doc in inauguralFilenames]\n"
   ]
  },
  {
   "cell_type": "code",
   "execution_count": 86,
   "metadata": {
    "collapsed": true
   },
   "outputs": [],
   "source": [
    "sentLengths = [ np.mean([len(sent) for sent in doc.sents]) for doc in inaugural ]"
   ]
  },
  {
   "cell_type": "code",
   "execution_count": 87,
   "metadata": {},
   "outputs": [
    {
     "data": {
      "text/plain": [
       "<matplotlib.axes._subplots.AxesSubplot at 0x13325e5c0>"
      ]
     },
     "execution_count": 87,
     "metadata": {},
     "output_type": "execute_result"
    },
    {
     "data": {
      "image/png": "[encoded data removed]",
      "text/plain": [
       "<matplotlib.figure.Figure at 0x13322f6d8>"
      ]
     },
     "metadata": {},
     "output_type": "display_data"
    }
   ],
   "source": [
    "pd.Series(sentLengths, index=labels).plot(kind='bar')"
   ]
  },
  {
   "cell_type": "markdown",
   "metadata": {},
   "source": [
    "## Term Frequency distributions\n",
    "We're simply going to count the occurrences of words and divide by the total number of words in the document."
   ]
  },
  {
   "cell_type": "code",
   "execution_count": 88,
   "metadata": {
    "collapsed": true
   },
   "outputs": [],
   "source": [
    "# Create a Pandas Data Frame with each word counted in each document, \n",
    "# divided by the length of the document. \n",
    "inauguralSeries = [pd.Series(Counter(   \n",
    "                    [word.string.strip().lower() \n",
    "                     for word in doc]))/len(doc) \n",
    "                     for doc in inaugural]\n",
    "seriesDict = {label: series for label, series in zip(labels, inauguralSeries)}\n",
    "inauguralDf = pd.DataFrame(seriesDict).T.fillna(0)"
   ]
  },
  {
   "cell_type": "code",
   "execution_count": 89,
   "metadata": {},
   "outputs": [
    {
     "data": {
      "text/html": [
       "<div>\n",
       "<style>\n",
       "    .dataframe thead tr:only-child th {\n",
       "        text-align: right;\n",
       "    }\n",
       "\n",
       "    .dataframe thead th {\n",
       "        text-align: left;\n",
       "    }\n",
       "\n",
       "    .dataframe tbody tr th {\n",
       "        vertical-align: top;\n",
       "    }\n",
       "</style>\n",
       "<table border=\"1\" class=\"dataframe\">\n",
       "  <thead>\n",
       "    <tr style=\"text-align: right;\">\n",
       "      <th></th>\n",
       "      <th></th>\n",
       "      <th>!</th>\n",
       "      <th>\"</th>\n",
       "      <th>$</th>\n",
       "      <th>'</th>\n",
       "      <th>'ll</th>\n",
       "      <th>'s</th>\n",
       "      <th>'ve</th>\n",
       "      <th>(</th>\n",
       "      <th>)</th>\n",
       "      <th>...</th>\n",
       "      <th>yields</th>\n",
       "      <th>you</th>\n",
       "      <th>young</th>\n",
       "      <th>youngest</th>\n",
       "      <th>your</th>\n",
       "      <th>yours</th>\n",
       "      <th>yourselfxand</th>\n",
       "      <th>yourselves</th>\n",
       "      <th>youth</th>\n",
       "      <th>zealously</th>\n",
       "    </tr>\n",
       "  </thead>\n",
       "  <tbody>\n",
       "    <tr>\n",
       "      <th>1901-McKinley</th>\n",
       "      <td>0.004872</td>\n",
       "      <td>0.000406</td>\n",
       "      <td>0.004872</td>\n",
       "      <td>0.000406</td>\n",
       "      <td>0.0</td>\n",
       "      <td>0.0</td>\n",
       "      <td>0.000406</td>\n",
       "      <td>0.0</td>\n",
       "      <td>0.0</td>\n",
       "      <td>0.0</td>\n",
       "      <td>...</td>\n",
       "      <td>0.0</td>\n",
       "      <td>0.000406</td>\n",
       "      <td>0.0</td>\n",
       "      <td>0.0</td>\n",
       "      <td>0.000000</td>\n",
       "      <td>0.0</td>\n",
       "      <td>0.0</td>\n",
       "      <td>0.0</td>\n",
       "      <td>0.0</td>\n",
       "      <td>0.0</td>\n",
       "    </tr>\n",
       "    <tr>\n",
       "      <th>1905-Roosevelt</th>\n",
       "      <td>0.003656</td>\n",
       "      <td>0.000000</td>\n",
       "      <td>0.000000</td>\n",
       "      <td>0.000000</td>\n",
       "      <td>0.0</td>\n",
       "      <td>0.0</td>\n",
       "      <td>0.000914</td>\n",
       "      <td>0.0</td>\n",
       "      <td>0.0</td>\n",
       "      <td>0.0</td>\n",
       "      <td>...</td>\n",
       "      <td>0.0</td>\n",
       "      <td>0.000000</td>\n",
       "      <td>0.0</td>\n",
       "      <td>0.0</td>\n",
       "      <td>0.000000</td>\n",
       "      <td>0.0</td>\n",
       "      <td>0.0</td>\n",
       "      <td>0.0</td>\n",
       "      <td>0.0</td>\n",
       "      <td>0.0</td>\n",
       "    </tr>\n",
       "    <tr>\n",
       "      <th>1909-Taft</th>\n",
       "      <td>0.007303</td>\n",
       "      <td>0.000000</td>\n",
       "      <td>0.000679</td>\n",
       "      <td>0.000170</td>\n",
       "      <td>0.0</td>\n",
       "      <td>0.0</td>\n",
       "      <td>0.000000</td>\n",
       "      <td>0.0</td>\n",
       "      <td>0.0</td>\n",
       "      <td>0.0</td>\n",
       "      <td>...</td>\n",
       "      <td>0.0</td>\n",
       "      <td>0.000000</td>\n",
       "      <td>0.0</td>\n",
       "      <td>0.0</td>\n",
       "      <td>0.000000</td>\n",
       "      <td>0.0</td>\n",
       "      <td>0.0</td>\n",
       "      <td>0.0</td>\n",
       "      <td>0.0</td>\n",
       "      <td>0.0</td>\n",
       "    </tr>\n",
       "    <tr>\n",
       "      <th>1913-Wilson</th>\n",
       "      <td>0.005753</td>\n",
       "      <td>0.000523</td>\n",
       "      <td>0.001046</td>\n",
       "      <td>0.000000</td>\n",
       "      <td>0.0</td>\n",
       "      <td>0.0</td>\n",
       "      <td>0.002615</td>\n",
       "      <td>0.0</td>\n",
       "      <td>0.0</td>\n",
       "      <td>0.0</td>\n",
       "      <td>...</td>\n",
       "      <td>0.0</td>\n",
       "      <td>0.000000</td>\n",
       "      <td>0.0</td>\n",
       "      <td>0.0</td>\n",
       "      <td>0.000000</td>\n",
       "      <td>0.0</td>\n",
       "      <td>0.0</td>\n",
       "      <td>0.0</td>\n",
       "      <td>0.0</td>\n",
       "      <td>0.0</td>\n",
       "    </tr>\n",
       "    <tr>\n",
       "      <th>1917-Wilson</th>\n",
       "      <td>0.010161</td>\n",
       "      <td>0.000000</td>\n",
       "      <td>0.000000</td>\n",
       "      <td>0.000000</td>\n",
       "      <td>0.0</td>\n",
       "      <td>0.0</td>\n",
       "      <td>0.001195</td>\n",
       "      <td>0.0</td>\n",
       "      <td>0.0</td>\n",
       "      <td>0.0</td>\n",
       "      <td>...</td>\n",
       "      <td>0.0</td>\n",
       "      <td>0.001195</td>\n",
       "      <td>0.0</td>\n",
       "      <td>0.0</td>\n",
       "      <td>0.003586</td>\n",
       "      <td>0.0</td>\n",
       "      <td>0.0</td>\n",
       "      <td>0.0</td>\n",
       "      <td>0.0</td>\n",
       "      <td>0.0</td>\n",
       "    </tr>\n",
       "  </tbody>\n",
       "</table>\n",
       "<p>5 rows × 6213 columns</p>\n",
       "</div>"
      ],
      "text/plain": [
       "                                 !         \"         $    '  'll        's  \\\n",
       "1901-McKinley   0.004872  0.000406  0.004872  0.000406  0.0  0.0  0.000406   \n",
       "1905-Roosevelt  0.003656  0.000000  0.000000  0.000000  0.0  0.0  0.000914   \n",
       "1909-Taft       0.007303  0.000000  0.000679  0.000170  0.0  0.0  0.000000   \n",
       "1913-Wilson     0.005753  0.000523  0.001046  0.000000  0.0  0.0  0.002615   \n",
       "1917-Wilson     0.010161  0.000000  0.000000  0.000000  0.0  0.0  0.001195   \n",
       "\n",
       "                've    (    )    ...      yields       you  young  youngest  \\\n",
       "1901-McKinley   0.0  0.0  0.0    ...         0.0  0.000406    0.0       0.0   \n",
       "1905-Roosevelt  0.0  0.0  0.0    ...         0.0  0.000000    0.0       0.0   \n",
       "1909-Taft       0.0  0.0  0.0    ...         0.0  0.000000    0.0       0.0   \n",
       "1913-Wilson     0.0  0.0  0.0    ...         0.0  0.000000    0.0       0.0   \n",
       "1917-Wilson     0.0  0.0  0.0    ...         0.0  0.001195    0.0       0.0   \n",
       "\n",
       "                    your  yours  yourselfxand  yourselves  youth  zealously  \n",
       "1901-McKinley   0.000000    0.0           0.0         0.0    0.0        0.0  \n",
       "1905-Roosevelt  0.000000    0.0           0.0         0.0    0.0        0.0  \n",
       "1909-Taft       0.000000    0.0           0.0         0.0    0.0        0.0  \n",
       "1913-Wilson     0.000000    0.0           0.0         0.0    0.0        0.0  \n",
       "1917-Wilson     0.003586    0.0           0.0         0.0    0.0        0.0  \n",
       "\n",
       "[5 rows x 6213 columns]"
      ]
     },
     "execution_count": 89,
     "metadata": {},
     "output_type": "execute_result"
    }
   ],
   "source": [
    "inauguralDf.head()"
   ]
  },
  {
   "cell_type": "code",
   "execution_count": 90,
   "metadata": {},
   "outputs": [
    {
     "data": {
      "text/plain": [
       "<matplotlib.axes._subplots.AxesSubplot at 0x1394500b8>"
      ]
     },
     "execution_count": 90,
     "metadata": {},
     "output_type": "execute_result"
    },
    {
     "data": {
      "image/png": "[encoded data removed]",
      "text/plain": [
       "<matplotlib.figure.Figure at 0x139450518>"
      ]
     },
     "metadata": {},
     "output_type": "display_data"
    }
   ],
   "source": [
    "inauguralDf[['world', 'america']].plot(kind='bar')"
   ]
  },
  {
   "cell_type": "code",
   "execution_count": null,
   "metadata": {
    "collapsed": true
   },
   "outputs": [],
   "source": []
  }
 ],
 "metadata": {
  "kernelspec": {
   "display_name": "Python 3",
   "language": "python",
   "name": "python3"
  },
  "language_info": {
   "codemirror_mode": {
    "name": "ipython",
    "version": 3
   },
   "file_extension": ".py",
   "mimetype": "text/x-python",
   "name": "python",
   "nbconvert_exporter": "python",
   "pygments_lexer": "ipython3",
   "version": "3.7.2"
  }
 },
 "nbformat": 4,
 "nbformat_minor": 2
}
